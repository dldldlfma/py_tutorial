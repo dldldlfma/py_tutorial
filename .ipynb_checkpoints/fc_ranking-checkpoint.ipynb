{
 "cells": [
  {
   "cell_type": "code",
   "execution_count": 31,
   "metadata": {},
   "outputs": [],
   "source": [
    "from selenium import webdriver\n",
    "from selenium.webdriver.common.keys import Keys"
   ]
  },
  {
   "cell_type": "code",
   "execution_count": 32,
   "metadata": {},
   "outputs": [],
   "source": [
    "driver = webdriver.Chrome(\"./chromedriver.exe\")\n",
    "try:\n",
    "    driver.get('https://naver.com')\n",
    "except:\n",
    "    print(\"error occur\")"
   ]
  },
  {
   "cell_type": "code",
   "execution_count": 33,
   "metadata": {},
   "outputs": [
    {
     "name": "stdout",
     "output_type": "stream",
     "text": [
      "검색어를 입력하세요 : 올인원 패키지\n"
     ]
    }
   ],
   "source": [
    "keyword = input(\"검색어를 입력하세요 : \")"
   ]
  },
  {
   "cell_type": "code",
   "execution_count": 34,
   "metadata": {},
   "outputs": [],
   "source": [
    "elem = driver.find_element_by_id('query')\n",
    "elem.send_keys(keyword)\n",
    "elem.send_keys(Keys.RETURN)"
   ]
  },
  {
   "cell_type": "code",
   "execution_count": 35,
   "metadata": {},
   "outputs": [],
   "source": [
    "div = driver.find_element_by_class_name('_blogBase')\n",
    "elem = div.find_element_by_tag_name('ul')"
   ]
  },
  {
   "cell_type": "code",
   "execution_count": 36,
   "metadata": {},
   "outputs": [],
   "source": [
    "div = driver.find_element_by_class_name('_blogBase')\n",
    "blogs = div.find_elements_by_xpath('./ul/li')"
   ]
  },
  {
   "cell_type": "code",
   "execution_count": 37,
   "metadata": {},
   "outputs": [
    {
     "name": "stdout",
     "output_type": "stream",
     "text": [
      "주방싱크대교체+싱크대타일 올인원패키지 출시! 2일 전\n",
      "룸업에서 이번에 출시한 올인원패키지 상품은 바로 싱크대+타일 한번에 해결 할수 있는 상품입니다. 가장 궁금한게 가격일텐데요~ 아래 가격표 첨부해드리오니...\n",
      "룸업 |원룸리모델링... blog.naver.com/ghwlsfl0/221683984310 블로그 내 검색\n"
     ]
    }
   ],
   "source": [
    "print(blogs[0].text)"
   ]
  },
  {
   "cell_type": "code",
   "execution_count": 40,
   "metadata": {},
   "outputs": [
    {
     "name": "stdout",
     "output_type": "stream",
     "text": [
      "주방싱크대교체+싱크대타일 올인원패키지 출시!\n",
      "https://blog.naver.com/ghwlsfl0?Redirect=Log&logNo=221683984310\n",
      "단 6주면 정복 가능해요\" - 엑셀 실무 마스터 올인원 패키지...\n",
      "http://blog.fastcampus.co.kr/221684177629\n",
      "꼬꼬빌 닭가슴살 올인원패키지 20팩\n",
      "https://blog.naver.com/e1it31?Redirect=Log&logNo=221684017527\n",
      "슈링크 300샷 올인원 패키지 (윤곽주사) 닥터 소녀로에서!\n",
      "https://blog.naver.com/diwendy?Redirect=Log&logNo=221675882443\n",
      "[패스트캠퍼스 학습일지] 올인원패키지:디자인툴 2주차\n",
      "https://blog.naver.com/clover713?Redirect=Log&logNo=221683311933\n"
     ]
    }
   ],
   "source": [
    "value = []\n",
    "for blog in blogs:\n",
    "    title = blog.find_element_by_class_name('sh_blog_title')\n",
    "    print(title.text)\n",
    "    link = title.get_attribute('href')\n",
    "    print(link)\n",
    "    #value.append({'title':title, 'link':link})"
   ]
  },
  {
   "cell_type": "code",
   "execution_count": 41,
   "metadata": {},
   "outputs": [
    {
     "data": {
      "text/plain": [
       "[]"
      ]
     },
     "execution_count": 41,
     "metadata": {},
     "output_type": "execute_result"
    }
   ],
   "source": [
    "value"
   ]
  },
  {
   "cell_type": "code",
   "execution_count": 42,
   "metadata": {},
   "outputs": [],
   "source": [
    "driver.close()"
   ]
  },
  {
   "cell_type": "code",
   "execution_count": 242,
   "metadata": {},
   "outputs": [],
   "source": [
    "def keyword_setting(word):\n",
    "    change_word = list(word)\n",
    "    for i in range(len(change_word)):\n",
    "        if(change_word[i]==' '):\n",
    "            change_word[i]='+'\n",
    "    change_word = ''.join(change_word)\n",
    "    return change_word\n",
    "\n",
    "def keyword_setup(keyword):\n",
    "    URL = 'https://www.google.com/search?q=' +keyword_setting(keyword)\n",
    "\n",
    "    driver = webdriver.Chrome(\"C:/Users/ksg/py_tutorial/chromedriver.exe\")\n",
    "    driver.implicitly_wait(1)\n",
    "\n",
    "    driver.get(URL)\n",
    "    driver.implicitly_wait(1)\n",
    "\n",
    "    div = driver.find_element_by_id('search')\n",
    "    url_list = div.find_elements_by_class_name('g')\n",
    "\n",
    "    for i,val in enumerate(url_list):\n",
    "        print(i,end=' : ')\n",
    "        print(val.text.split(\"\\n\")[0],end =' => ')\n",
    "        url = val.find_elements_by_tag_name('a')\n",
    "        print(url[0].get_attribute('href'))\n",
    "    \n",
    "    driver.close()\n",
    "    return 0"
   ]
  },
  {
   "cell_type": "code",
   "execution_count": 243,
   "metadata": {
    "scrolled": false
   },
   "outputs": [
    {
     "name": "stdout",
     "output_type": "stream",
     "text": [
      "0 : [올인원 패키지] 컴퓨터 공학 전공필수 ONLINE | 패스트캠퍼스\n",
      "1 : 올인원 패키지 디자인 툴 ONLINE | 패스트캠퍼스\n",
      "2 : [올인원 패키지] 왕초보를 위한 프로그래밍 첫걸음 ONLINE\n",
      "3 : 업무자동화 올인원 패키지 MAX l 패스트캠퍼스 ONLINE\n",
      "4 : 액션쾌감!!! 던전앤파이터 세리아의 올인원 패키지\n",
      "5 : 패스트캠퍼스 온라인강의 '올인원패키지' 출시2주만에 사전 ...\n",
      "6 : fastcampus 디지털 마케팅 올인원 패키지 후기 Ⅰ : 네이버 블로그\n",
      "7 : [패스트캠퍼스 온라인 강의 후기] 올인원 패키지 : 게임 제작 ...\n",
      "\n",
      "8\n",
      "\n",
      "0 : [올인원 패키지] 컴퓨터 공학 전공필수 ONLINE | 패스트캠퍼스 => https://www.fastcampus.co.kr/dev_online_cs/\n",
      "1 : 올인원 패키지 디자인 툴 ONLINE | 패스트캠퍼스 => https://www.fastcampus.co.kr/dgn_online_toolpass/\n",
      "2 : [올인원 패키지] 왕초보를 위한 프로그래밍 첫걸음 ONLINE => https://www.fastcampus.co.kr/dev_online_introp/\n",
      "3 : 업무자동화 올인원 패키지 MAX l 패스트캠퍼스 ONLINE => https://www.fastcampus.co.kr/dev_online_autom/\n",
      "4 : 액션쾌감!!! 던전앤파이터 세리아의 올인원 패키지 => http://df.nexon.com/df/pg/allinone_pkg\n",
      "5 : 패스트캠퍼스 온라인강의 '올인원패키지' 출시2주만에 사전 ... => http://fast-track.asia/fastcampus_2000_online_course/\n",
      "6 : fastcampus 디지털 마케팅 올인원 패키지 후기 Ⅰ : 네이버 블로그 => https://blog.naver.com/PostView.nhn?blogId=nmstory&logNo=221463645235\n",
      "7 : [패스트캠퍼스 온라인 강의 후기] 올인원 패키지 : 게임 제작 ... => https://medium.com/fastcampus-online/%ED%8C%A8%EC%8A%A4%ED%8A%B8%EC%BA%A0%ED%8D%BC%EC%8A%A4-%EC%98%A8%EB%9D%BC%EC%9D%B8-%EA%B0%95%EC%9D%98-%ED%9B%84%EA%B8%B0-%EC%98%AC%EC%9D%B8%EC%9B%90-%ED%8C%A8%ED%82%A4%EC%A7%80-%EA%B2%8C%EC%9E%84-%EC%A0%9C%EC%9E%91-2fa98d6b1fd2\n",
      "0\n"
     ]
    }
   ],
   "source": [
    "print(keyword_setup(\"올인원 패키지\"))"
   ]
  },
  {
   "cell_type": "code",
   "execution_count": null,
   "metadata": {},
   "outputs": [],
   "source": []
  },
  {
   "cell_type": "code",
   "execution_count": null,
   "metadata": {},
   "outputs": [],
   "source": []
  }
 ],
 "metadata": {
  "kernelspec": {
   "display_name": "Python 3",
   "language": "python",
   "name": "python3"
  },
  "language_info": {
   "codemirror_mode": {
    "name": "ipython",
    "version": 3
   },
   "file_extension": ".py",
   "mimetype": "text/x-python",
   "name": "python",
   "nbconvert_exporter": "python",
   "pygments_lexer": "ipython3",
   "version": "3.7.3"
  }
 },
 "nbformat": 4,
 "nbformat_minor": 2
}
