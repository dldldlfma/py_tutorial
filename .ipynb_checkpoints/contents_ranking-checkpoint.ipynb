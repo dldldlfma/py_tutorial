{
 "cells": [
  {
   "cell_type": "markdown",
   "metadata": {},
   "source": [
    "C:\\Users\\ksg\\py_tutorial"
   ]
  },
  {
   "cell_type": "code",
   "execution_count": 1,
   "metadata": {},
   "outputs": [],
   "source": [
    "from selenium import webdriver\n",
    "from bs4 import BeautifulSoup\n",
    "from pprint import pprint"
   ]
  },
  {
   "cell_type": "code",
   "execution_count": 2,
   "metadata": {},
   "outputs": [],
   "source": [
    "def keyword_setting(word):\n",
    "    change_word = list(word)\n",
    "    for i in range(len(change_word)):\n",
    "        if(change_word[i]==' '):\n",
    "            change_word[i]='+'\n",
    "    change_word = ''.join(change_word)\n",
    "    return change_word"
   ]
  },
  {
   "cell_type": "code",
   "execution_count": 3,
   "metadata": {},
   "outputs": [],
   "source": [
    "keyword = 'linux 동영상 녹화'\n",
    "URL = 'https://www.google.com/search?q=' +keyword_setting(keyword)\n",
    "\n",
    "driver = webdriver.Chrome(\"C:/Users/ksg/py_tutorial/chromedriver.exe\")\n",
    "driver.implicitly_wait(1)\n",
    "\n",
    "driver.get(URL)\n",
    "driver.implicitly_wait(2)\n",
    "\n",
    "html = driver.page_source\n",
    "\n",
    "soup = BeautifulSoup(html, 'html.parser')\n",
    "title_list = soup.find_all(name='div',attrs={'class':'r'})"
   ]
  },
  {
   "cell_type": "code",
   "execution_count": 4,
   "metadata": {},
   "outputs": [
    {
     "data": {
      "text/plain": [
       "[<div class=\"r\"><a href=\"https://webnautes.tistory.com/1263\" ping=\"/url?sa=t&amp;source=web&amp;rct=j&amp;url=https://webnautes.tistory.com/1263&amp;ved=2ahUKEwjQw-7pxavlAhULGKYKHZQoAr4QFjAAegQIARAB\"><h3 class=\"LC20lb\">리눅스용 무료 화면 녹화 프로그램 - SimpleScreenRecorder</h3><br/><div class=\"TbwUpd\"><cite class=\"iUh30 bc\">https://webnautes.tistory.com › ...</cite></div></a><span><div class=\"action-menu ab_ctl\"><a aria-expanded=\"false\" aria-haspopup=\"true\" aria-label=\"검색결과 옵션\" class=\"GHDvEf ab_button\" data-ved=\"2ahUKEwjQw-7pxavlAhULGKYKHZQoAr4Q7B0wAHoECAEQAw\" href=\"#\" id=\"am-b0\" jsaction=\"m.tdd;keydown:m.hbke;keypress:m.mskpe\" role=\"button\"><span class=\"mn-dwn-arw\"></span></a><div class=\"action-menu-panel ab_dropdown\" data-ved=\"2ahUKEwjQw-7pxavlAhULGKYKHZQoAr4QqR8wAHoECAEQBA\" jsaction=\"keydown:m.hdke;mouseover:m.hdhne;mouseout:m.hdhue\" role=\"menu\" tabindex=\"-1\"><ol><li class=\"action-menu-item ab_dropdownitem\" role=\"menuitem\"><a class=\"fl\" href=\"https://webcache.googleusercontent.com/search?q=cache:1Y2A3Lznq1wJ:https://webnautes.tistory.com/1263+&amp;cd=1&amp;hl=ko&amp;ct=clnk&amp;gl=kr\" ping=\"/url?sa=t&amp;source=web&amp;rct=j&amp;url=https://webcache.googleusercontent.com/search%3Fq%3Dcache:1Y2A3Lznq1wJ:https://webnautes.tistory.com/1263%2B%26cd%3D1%26hl%3Dko%26ct%3Dclnk%26gl%3Dkr&amp;ved=2ahUKEwjQw-7pxavlAhULGKYKHZQoAr4QIDAAegQIARAF\">저장된 페이지</a></li></ol></div></div></span></div>,\n",
       " <div class=\"r\"><a href=\"http://www.itworld.co.kr/news/105793\" ping=\"/url?sa=t&amp;source=web&amp;rct=j&amp;url=http://www.itworld.co.kr/news/105793&amp;ved=2ahUKEwjQw-7pxavlAhULGKYKHZQoAr4QFjABegQIABAB\"><h3 class=\"LC20lb\">리눅스용 무료 화면 녹화 앱 5가지 - ITWorld Korea</h3><br/><div class=\"TbwUpd\"><cite class=\"iUh30 bc\">www.itworld.co.kr › news</cite></div></a><span><div class=\"action-menu ab_ctl\"><a aria-expanded=\"false\" aria-haspopup=\"true\" aria-label=\"검색결과 옵션\" class=\"GHDvEf ab_button\" data-ved=\"2ahUKEwjQw-7pxavlAhULGKYKHZQoAr4Q7B0wAXoECAAQAw\" href=\"#\" id=\"am-b1\" jsaction=\"m.tdd;keydown:m.hbke;keypress:m.mskpe\" role=\"button\"><span class=\"mn-dwn-arw\"></span></a><div class=\"action-menu-panel ab_dropdown\" data-ved=\"2ahUKEwjQw-7pxavlAhULGKYKHZQoAr4QqR8wAXoECAAQBA\" jsaction=\"keydown:m.hdke;mouseover:m.hdhne;mouseout:m.hdhue\" role=\"menu\" tabindex=\"-1\"><ol><li class=\"action-menu-item ab_dropdownitem\" role=\"menuitem\"><a class=\"fl\" href=\"http://webcache.googleusercontent.com/search?q=cache:Nk3ZXbLN0CMJ:www.itworld.co.kr/news/105793+&amp;cd=2&amp;hl=ko&amp;ct=clnk&amp;gl=kr\" ping=\"/url?sa=t&amp;source=web&amp;rct=j&amp;url=http://webcache.googleusercontent.com/search%3Fq%3Dcache:Nk3ZXbLN0CMJ:www.itworld.co.kr/news/105793%2B%26cd%3D2%26hl%3Dko%26ct%3Dclnk%26gl%3Dkr&amp;ved=2ahUKEwjQw-7pxavlAhULGKYKHZQoAr4QIDABegQIABAF\">저장된 페이지</a></li></ol></div></div></span></div>,\n",
       " <div class=\"r\"><a href=\"https://pinkwink.kr/913\" ping=\"/url?sa=t&amp;source=web&amp;rct=j&amp;url=https://pinkwink.kr/913&amp;ved=2ahUKEwjQw-7pxavlAhULGKYKHZQoAr4QFjACegQIBhAB\"><h3 class=\"LC20lb\">우분투(Ubuntu)에서 화면 녹화를 쉽게 할 수 있는 ... - PinkWink</h3><br/><div class=\"TbwUpd\"><cite class=\"iUh30 bc\">https://pinkwink.kr › ...</cite></div></a><span><div class=\"action-menu ab_ctl\"><a aria-expanded=\"false\" aria-haspopup=\"true\" aria-label=\"검색결과 옵션\" class=\"GHDvEf ab_button\" data-ved=\"2ahUKEwjQw-7pxavlAhULGKYKHZQoAr4Q7B0wAnoECAYQAw\" href=\"#\" id=\"am-b2\" jsaction=\"m.tdd;keydown:m.hbke;keypress:m.mskpe\" role=\"button\"><span class=\"mn-dwn-arw\"></span></a><div class=\"action-menu-panel ab_dropdown\" data-ved=\"2ahUKEwjQw-7pxavlAhULGKYKHZQoAr4QqR8wAnoECAYQBA\" jsaction=\"keydown:m.hdke;mouseover:m.hdhne;mouseout:m.hdhue\" role=\"menu\" tabindex=\"-1\"><ol><li class=\"action-menu-item ab_dropdownitem\" role=\"menuitem\"><a class=\"fl\" href=\"https://webcache.googleusercontent.com/search?q=cache:CQsqVJR3RTYJ:https://pinkwink.kr/913+&amp;cd=3&amp;hl=ko&amp;ct=clnk&amp;gl=kr\" ping=\"/url?sa=t&amp;source=web&amp;rct=j&amp;url=https://webcache.googleusercontent.com/search%3Fq%3Dcache:CQsqVJR3RTYJ:https://pinkwink.kr/913%2B%26cd%3D3%26hl%3Dko%26ct%3Dclnk%26gl%3Dkr&amp;ved=2ahUKEwjQw-7pxavlAhULGKYKHZQoAr4QIDACegQIBhAF\">저장된 페이지</a></li></ol></div></div></span></div>,\n",
       " <div class=\"r\"><a href=\"http://blog.naver.com/PostView.nhn?blogId=doksg&amp;logNo=221454150493&amp;parentCategoryNo=&amp;categoryNo=19&amp;viewDate=&amp;isShowPopularPosts=true&amp;from=search\" ping=\"/url?sa=t&amp;source=web&amp;rct=j&amp;url=http://blog.naver.com/PostView.nhn%3FblogId%3Ddoksg%26logNo%3D221454150493%26parentCategoryNo%3D%26categoryNo%3D19%26viewDate%3D%26isShowPopularPosts%3Dtrue%26from%3Dsearch&amp;ved=2ahUKEwjQw-7pxavlAhULGKYKHZQoAr4QFjADegQIBBAB\"><h3 class=\"LC20lb\">화면녹화 프로그램 (Linux에서!) : 네이버 블로그</h3><br/><div class=\"TbwUpd\"><cite class=\"iUh30 bc\">blog.naver.com › PostView</cite></div></a><span><div class=\"action-menu ab_ctl\"><a aria-expanded=\"false\" aria-haspopup=\"true\" aria-label=\"검색결과 옵션\" class=\"GHDvEf ab_button\" data-ved=\"2ahUKEwjQw-7pxavlAhULGKYKHZQoAr4Q7B0wA3oECAQQAw\" href=\"#\" id=\"am-b3\" jsaction=\"m.tdd;keydown:m.hbke;keypress:m.mskpe\" role=\"button\"><span class=\"mn-dwn-arw\"></span></a><div class=\"action-menu-panel ab_dropdown\" data-ved=\"2ahUKEwjQw-7pxavlAhULGKYKHZQoAr4QqR8wA3oECAQQBA\" jsaction=\"keydown:m.hdke;mouseover:m.hdhne;mouseout:m.hdhue\" role=\"menu\" tabindex=\"-1\"><ol><li class=\"action-menu-item ab_dropdownitem\" role=\"menuitem\"><a class=\"fl\" href=\"http://webcache.googleusercontent.com/search?q=cache:7T8USitK6V4J:blog.naver.com/PostView.nhn%3FblogId%3Ddoksg%26logNo%3D221454150493%26parentCategoryNo%3D%26categoryNo%3D19%26viewDate%3D%26isShowPopularPosts%3Dtrue%26from%3Dsearch+&amp;cd=4&amp;hl=ko&amp;ct=clnk&amp;gl=kr\" ping=\"/url?sa=t&amp;source=web&amp;rct=j&amp;url=http://webcache.googleusercontent.com/search%3Fq%3Dcache:7T8USitK6V4J:blog.naver.com/PostView.nhn%253FblogId%253Ddoksg%2526logNo%253D221454150493%2526parentCategoryNo%253D%2526categoryNo%253D19%2526viewDate%253D%2526isShowPopularPosts%253Dtrue%2526from%253Dsearch%2B%26cd%3D4%26hl%3Dko%26ct%3Dclnk%26gl%3Dkr&amp;ved=2ahUKEwjQw-7pxavlAhULGKYKHZQoAr4QIDADegQIBBAF\">저장된 페이지</a></li></ol></div></div></span></div>,\n",
       " <div class=\"r\"><a href=\"http://www.kwangsiklee.com/2017/12/%EC%9A%B0%EB%B6%84%ED%88%AC-16-04%EC%97%90%EC%84%9C-obs%EB%A1%9C-%ED%99%94%EB%A9%B4-%EB%85%B9%ED%99%94%ED%95%98%EA%B8%B0/\" ping=\"/url?sa=t&amp;source=web&amp;rct=j&amp;url=http://www.kwangsiklee.com/2017/12/%25EC%259A%25B0%25EB%25B6%2584%25ED%2588%25AC-16-04%25EC%2597%2590%25EC%2584%259C-obs%25EB%25A1%259C-%25ED%2599%2594%25EB%25A9%25B4-%25EB%2585%25B9%25ED%2599%2594%25ED%2595%2598%25EA%25B8%25B0/&amp;ved=2ahUKEwjQw-7pxavlAhULGKYKHZQoAr4QFjAEegQIAxAB\"><h3 class=\"LC20lb\">우분투 16.04에서 obs로 화면 녹화하기 | KWANGSIK LEE's log</h3><br/><div class=\"TbwUpd\"><cite class=\"iUh30 bc\">www.kwangsiklee.com › 2017/12 › 우분투-16-04에서-obs로-화면-녹화...</cite></div></a><span><div class=\"action-menu ab_ctl\"><a aria-expanded=\"false\" aria-haspopup=\"true\" aria-label=\"검색결과 옵션\" class=\"GHDvEf ab_button\" data-ved=\"2ahUKEwjQw-7pxavlAhULGKYKHZQoAr4Q7B0wBHoECAMQAw\" href=\"#\" id=\"am-b4\" jsaction=\"m.tdd;keydown:m.hbke;keypress:m.mskpe\" role=\"button\"><span class=\"mn-dwn-arw\"></span></a><div class=\"action-menu-panel ab_dropdown\" data-ved=\"2ahUKEwjQw-7pxavlAhULGKYKHZQoAr4QqR8wBHoECAMQBA\" jsaction=\"keydown:m.hdke;mouseover:m.hdhne;mouseout:m.hdhue\" role=\"menu\" tabindex=\"-1\"><ol><li class=\"action-menu-item ab_dropdownitem\" role=\"menuitem\"><a class=\"fl\" href=\"http://webcache.googleusercontent.com/search?q=cache:YETl8Vw_GCgJ:www.kwangsiklee.com/2017/12/%25EC%259A%25B0%25EB%25B6%2584%25ED%2588%25AC-16-04%25EC%2597%2590%25EC%2584%259C-obs%25EB%25A1%259C-%25ED%2599%2594%25EB%25A9%25B4-%25EB%2585%25B9%25ED%2599%2594%25ED%2595%2598%25EA%25B8%25B0/+&amp;cd=5&amp;hl=ko&amp;ct=clnk&amp;gl=kr\" ping=\"/url?sa=t&amp;source=web&amp;rct=j&amp;url=http://webcache.googleusercontent.com/search%3Fq%3Dcache:YETl8Vw_GCgJ:www.kwangsiklee.com/2017/12/%2525EC%25259A%2525B0%2525EB%2525B6%252584%2525ED%252588%2525AC-16-04%2525EC%252597%252590%2525EC%252584%25259C-obs%2525EB%2525A1%25259C-%2525ED%252599%252594%2525EB%2525A9%2525B4-%2525EB%252585%2525B9%2525ED%252599%252594%2525ED%252595%252598%2525EA%2525B8%2525B0/%2B%26cd%3D5%26hl%3Dko%26ct%3Dclnk%26gl%3Dkr&amp;ved=2ahUKEwjQw-7pxavlAhULGKYKHZQoAr4QIDAEegQIAxAF\">저장된 페이지</a></li></ol></div></div></span></div>,\n",
       " <div class=\"r\"><a href=\"https://lucy123.tistory.com/entry/%EB%A6%AC%EB%88%85%EC%8A%A4-%EC%B6%94%EC%B2%9C-%EB%8F%99%EC%98%81%EC%83%81-%EB%85%B9%ED%99%94-%ED%94%84%EB%A1%9C%EA%B7%B8%EB%9E%A8-Kazam\" ping=\"/url?sa=t&amp;source=web&amp;rct=j&amp;url=https://lucy123.tistory.com/entry/%25EB%25A6%25AC%25EB%2588%2585%25EC%258A%25A4-%25EC%25B6%2594%25EC%25B2%259C-%25EB%258F%2599%25EC%2598%2581%25EC%2583%2581-%25EB%2585%25B9%25ED%2599%2594-%25ED%2594%2584%25EB%25A1%259C%25EA%25B7%25B8%25EB%259E%25A8-Kazam&amp;ved=2ahUKEwjQw-7pxavlAhULGKYKHZQoAr4QFjAFegQIAhAB\"><h3 class=\"LC20lb\">리눅스 추천 동영상 녹화 프로그램 Kazam - The Man 낙서장</h3><br/><div class=\"TbwUpd\"><cite class=\"iUh30 bc\">https://lucy123.tistory.com › entry › 리눅스-추천-동영상-녹화-프로그램-...</cite></div></a><span><div class=\"action-menu ab_ctl\"><a aria-expanded=\"false\" aria-haspopup=\"true\" aria-label=\"검색결과 옵션\" class=\"GHDvEf ab_button\" data-ved=\"2ahUKEwjQw-7pxavlAhULGKYKHZQoAr4Q7B0wBXoECAIQAw\" href=\"#\" id=\"am-b5\" jsaction=\"m.tdd;keydown:m.hbke;keypress:m.mskpe\" role=\"button\"><span class=\"mn-dwn-arw\"></span></a><div class=\"action-menu-panel ab_dropdown\" data-ved=\"2ahUKEwjQw-7pxavlAhULGKYKHZQoAr4QqR8wBXoECAIQBA\" jsaction=\"keydown:m.hdke;mouseover:m.hdhne;mouseout:m.hdhue\" role=\"menu\" tabindex=\"-1\"><ol><li class=\"action-menu-item ab_dropdownitem\" role=\"menuitem\"><a class=\"fl\" href=\"https://webcache.googleusercontent.com/search?q=cache:jgFHxRntLlUJ:https://lucy123.tistory.com/entry/%25EB%25A6%25AC%25EB%2588%2585%25EC%258A%25A4-%25EC%25B6%2594%25EC%25B2%259C-%25EB%258F%2599%25EC%2598%2581%25EC%2583%2581-%25EB%2585%25B9%25ED%2599%2594-%25ED%2594%2584%25EB%25A1%259C%25EA%25B7%25B8%25EB%259E%25A8-Kazam+&amp;cd=6&amp;hl=ko&amp;ct=clnk&amp;gl=kr\" ping=\"/url?sa=t&amp;source=web&amp;rct=j&amp;url=https://webcache.googleusercontent.com/search%3Fq%3Dcache:jgFHxRntLlUJ:https://lucy123.tistory.com/entry/%2525EB%2525A6%2525AC%2525EB%252588%252585%2525EC%25258A%2525A4-%2525EC%2525B6%252594%2525EC%2525B2%25259C-%2525EB%25258F%252599%2525EC%252598%252581%2525EC%252583%252581-%2525EB%252585%2525B9%2525ED%252599%252594-%2525ED%252594%252584%2525EB%2525A1%25259C%2525EA%2525B7%2525B8%2525EB%25259E%2525A8-Kazam%2B%26cd%3D6%26hl%3Dko%26ct%3Dclnk%26gl%3Dkr&amp;ved=2ahUKEwjQw-7pxavlAhULGKYKHZQoAr4QIDAFegQIAhAF\">저장된 페이지</a></li></ol></div></div></span></div>,\n",
       " <div class=\"r\"><a href=\"https://badayak.com/3834\" ping=\"/url?sa=t&amp;source=web&amp;rct=j&amp;url=https://badayak.com/3834&amp;ved=2ahUKEwjQw-7pxavlAhULGKYKHZQoAr4QFjAGegQICBAB\"><h3 class=\"LC20lb\">리눅스(우분투) 화면 동영상 캡쳐 프로그램 ... - 바다야크</h3><br/><div class=\"TbwUpd\"><cite class=\"iUh30 bc\">https://badayak.com › ...</cite></div></a><span><div class=\"action-menu ab_ctl\"><a aria-expanded=\"false\" aria-haspopup=\"true\" aria-label=\"검색결과 옵션\" class=\"GHDvEf ab_button\" data-ved=\"2ahUKEwjQw-7pxavlAhULGKYKHZQoAr4Q7B0wBnoECAgQAw\" href=\"#\" id=\"am-b6\" jsaction=\"m.tdd;keydown:m.hbke;keypress:m.mskpe\" role=\"button\"><span class=\"mn-dwn-arw\"></span></a><div class=\"action-menu-panel ab_dropdown\" data-ved=\"2ahUKEwjQw-7pxavlAhULGKYKHZQoAr4QqR8wBnoECAgQBA\" jsaction=\"keydown:m.hdke;mouseover:m.hdhne;mouseout:m.hdhue\" role=\"menu\" tabindex=\"-1\"><ol><li class=\"action-menu-item ab_dropdownitem\" role=\"menuitem\"><a class=\"fl\" href=\"https://webcache.googleusercontent.com/search?q=cache:0x5zk05FljcJ:https://badayak.com/3834+&amp;cd=7&amp;hl=ko&amp;ct=clnk&amp;gl=kr\" ping=\"/url?sa=t&amp;source=web&amp;rct=j&amp;url=https://webcache.googleusercontent.com/search%3Fq%3Dcache:0x5zk05FljcJ:https://badayak.com/3834%2B%26cd%3D7%26hl%3Dko%26ct%3Dclnk%26gl%3Dkr&amp;ved=2ahUKEwjQw-7pxavlAhULGKYKHZQoAr4QIDAGegQICBAF\">저장된 페이지</a></li></ol></div></div></span></div>,\n",
       " <div class=\"r\"><a href=\"https://deneb21.tistory.com/372\" ping=\"/url?sa=t&amp;source=web&amp;rct=j&amp;url=https://deneb21.tistory.com/372&amp;ved=2ahUKEwjQw-7pxavlAhULGKYKHZQoAr4QFjAHegQIBxAB\"><h3 class=\"LC20lb\">[프리웨어] 리눅스(민트) 화면녹화, 동영상 캡처 ... - Do It Yourself!</h3><br/><div class=\"TbwUpd\"><cite class=\"iUh30 bc\">https://deneb21.tistory.com › ...</cite></div></a><span><div class=\"action-menu ab_ctl\"><a aria-expanded=\"false\" aria-haspopup=\"true\" aria-label=\"검색결과 옵션\" class=\"GHDvEf ab_button\" data-ved=\"2ahUKEwjQw-7pxavlAhULGKYKHZQoAr4Q7B0wB3oECAcQAw\" href=\"#\" id=\"am-b7\" jsaction=\"m.tdd;keydown:m.hbke;keypress:m.mskpe\" role=\"button\"><span class=\"mn-dwn-arw\"></span></a><div class=\"action-menu-panel ab_dropdown\" data-ved=\"2ahUKEwjQw-7pxavlAhULGKYKHZQoAr4QqR8wB3oECAcQBA\" jsaction=\"keydown:m.hdke;mouseover:m.hdhne;mouseout:m.hdhue\" role=\"menu\" tabindex=\"-1\"><ol><li class=\"action-menu-item ab_dropdownitem\" role=\"menuitem\"><a class=\"fl\" href=\"https://webcache.googleusercontent.com/search?q=cache:uFdG4h7csAsJ:https://deneb21.tistory.com/372+&amp;cd=8&amp;hl=ko&amp;ct=clnk&amp;gl=kr\" ping=\"/url?sa=t&amp;source=web&amp;rct=j&amp;url=https://webcache.googleusercontent.com/search%3Fq%3Dcache:uFdG4h7csAsJ:https://deneb21.tistory.com/372%2B%26cd%3D8%26hl%3Dko%26ct%3Dclnk%26gl%3Dkr&amp;ved=2ahUKEwjQw-7pxavlAhULGKYKHZQoAr4QIDAHegQIBxAF\">저장된 페이지</a></li></ol></div></div></span></div>,\n",
       " <div class=\"r\"><a href=\"https://sergeswin.com/1166\" ping=\"/url?sa=t&amp;source=web&amp;rct=j&amp;url=https://sergeswin.com/1166&amp;ved=2ahUKEwjQw-7pxavlAhULGKYKHZQoAr4QFjAIegQIBRAB\"><h3 class=\"LC20lb\">리눅스 화면 녹화, 이 프로그램을 사용해보시겠어요? - 스크린 ...</h3><br/><div class=\"TbwUpd\"><cite class=\"iUh30 bc\">https://sergeswin.com › ...</cite></div></a><span><div class=\"action-menu ab_ctl\"><a aria-expanded=\"false\" aria-haspopup=\"true\" aria-label=\"검색결과 옵션\" class=\"GHDvEf ab_button\" data-ved=\"2ahUKEwjQw-7pxavlAhULGKYKHZQoAr4Q7B0wCHoECAUQAw\" href=\"#\" id=\"am-b8\" jsaction=\"m.tdd;keydown:m.hbke;keypress:m.mskpe\" role=\"button\"><span class=\"mn-dwn-arw\"></span></a><div class=\"action-menu-panel ab_dropdown\" data-ved=\"2ahUKEwjQw-7pxavlAhULGKYKHZQoAr4QqR8wCHoECAUQBA\" jsaction=\"keydown:m.hdke;mouseover:m.hdhne;mouseout:m.hdhue\" role=\"menu\" tabindex=\"-1\"><ol><li class=\"action-menu-item ab_dropdownitem\" role=\"menuitem\"><a class=\"fl\" href=\"https://webcache.googleusercontent.com/search?q=cache:pdk5sb-mBKkJ:https://sergeswin.com/1166+&amp;cd=9&amp;hl=ko&amp;ct=clnk&amp;gl=kr\" ping=\"/url?sa=t&amp;source=web&amp;rct=j&amp;url=https://webcache.googleusercontent.com/search%3Fq%3Dcache:pdk5sb-mBKkJ:https://sergeswin.com/1166%2B%26cd%3D9%26hl%3Dko%26ct%3Dclnk%26gl%3Dkr&amp;ved=2ahUKEwjQw-7pxavlAhULGKYKHZQoAr4QIDAIegQIBRAF\">저장된 페이지</a></li></ol></div></div></span></div>,\n",
       " <div class=\"r\"><a href=\"https://idchowto.com/?p=7115\" ping=\"/url?sa=t&amp;source=web&amp;rct=j&amp;url=https://idchowto.com/%3Fp%3D7115&amp;ved=2ahUKEwjQw-7pxavlAhULGKYKHZQoAr4QFjAJegQICRAB\"><h3 class=\"LC20lb\">우분투용 화면 녹화 프로그램 recordMyDesktop : 스마일서브 ...</h3><br/><div class=\"TbwUpd\"><cite class=\"iUh30 bc\">https://idchowto.com › ...</cite></div></a><span><div class=\"action-menu ab_ctl\"><a aria-expanded=\"false\" aria-haspopup=\"true\" aria-label=\"검색결과 옵션\" class=\"GHDvEf ab_button\" data-ved=\"2ahUKEwjQw-7pxavlAhULGKYKHZQoAr4Q7B0wCXoECAkQAw\" href=\"#\" id=\"am-b9\" jsaction=\"m.tdd;keydown:m.hbke;keypress:m.mskpe\" role=\"button\"><span class=\"mn-dwn-arw\"></span></a><div class=\"action-menu-panel ab_dropdown\" data-ved=\"2ahUKEwjQw-7pxavlAhULGKYKHZQoAr4QqR8wCXoECAkQBA\" jsaction=\"keydown:m.hdke;mouseover:m.hdhne;mouseout:m.hdhue\" role=\"menu\" tabindex=\"-1\"><ol><li class=\"action-menu-item ab_dropdownitem\" role=\"menuitem\"><a class=\"fl\" href=\"https://webcache.googleusercontent.com/search?q=cache:7H4ijrAi6H0J:https://idchowto.com/%3Fp%3D7115+&amp;cd=10&amp;hl=ko&amp;ct=clnk&amp;gl=kr\" ping=\"/url?sa=t&amp;source=web&amp;rct=j&amp;url=https://webcache.googleusercontent.com/search%3Fq%3Dcache:7H4ijrAi6H0J:https://idchowto.com/%253Fp%253D7115%2B%26cd%3D10%26hl%3Dko%26ct%3Dclnk%26gl%3Dkr&amp;ved=2ahUKEwjQw-7pxavlAhULGKYKHZQoAr4QIDAJegQICRAF\">저장된 페이지</a></li></ol></div></div></span></div>]"
      ]
     },
     "execution_count": 4,
     "metadata": {},
     "output_type": "execute_result"
    }
   ],
   "source": [
    "title_list"
   ]
  },
  {
   "cell_type": "code",
   "execution_count": 5,
   "metadata": {},
   "outputs": [
    {
     "name": "stdout",
     "output_type": "stream",
     "text": [
      "리눅스용 무료 화면 녹화 프로그램 - SimpleScreenRecorderhttps://webnautes.tistory.com › ...저장된 페이지 : https://webnautes.tistory.com/1263\n",
      "\n",
      "리눅스용 무료 화면 녹화 앱 5가지 - ITWorld Koreawww.itworld.co.kr › news저장된 페이지 : http://www.itworld.co.kr/news/105793\n",
      "\n",
      "우분투(Ubuntu)에서 화면 녹화를 쉽게 할 수 있는 ... - PinkWinkhttps://pinkwink.kr › ...저장된 페이지 : https://pinkwink.kr/913\n",
      "\n",
      "화면녹화 프로그램 (Linux에서!) : 네이버 블로그blog.naver.com › PostView저장된 페이지 : http://blog.naver.com/PostView.nhn?blogId=doksg&amp;logNo=221454150493&amp;parentCategoryNo=&amp;categoryNo=19&amp;viewDate=&amp;isShowPopularPosts=true&amp;from=search\n",
      "\n",
      "우분투 16.04에서 obs로 화면 녹화하기 | KWANGSIK LEE's logwww.kwangsiklee.com › 2017/12 › 우분투-16-04에서-obs로-화면-녹화...저장된 페이지 : http://www.kwangsiklee.com/2017/12/%EC%9A%B0%EB%B6%84%ED%88%AC-16-04%EC%97%90%EC%84%9C-obs%EB%A1%9C-%ED%99%94%EB%A9%B4-%EB%85%B9%ED%99%94%ED%95%98%EA%B8%B0/\n",
      "\n",
      "리눅스 추천 동영상 녹화 프로그램 Kazam - The Man 낙서장https://lucy123.tistory.com › entry › 리눅스-추천-동영상-녹화-프로그램-...저장된 페이지 : https://lucy123.tistory.com/entry/%EB%A6%AC%EB%88%85%EC%8A%A4-%EC%B6%94%EC%B2%9C-%EB%8F%99%EC%98%81%EC%83%81-%EB%85%B9%ED%99%94-%ED%94%84%EB%A1%9C%EA%B7%B8%EB%9E%A8-Kazam\n",
      "\n",
      "리눅스(우분투) 화면 동영상 캡쳐 프로그램 ... - 바다야크https://badayak.com › ...저장된 페이지 : https://badayak.com/3834\n",
      "\n",
      "[프리웨어] 리눅스(민트) 화면녹화, 동영상 캡처 ... - Do It Yourself!https://deneb21.tistory.com › ...저장된 페이지 : https://deneb21.tistory.com/372\n",
      "\n",
      "리눅스 화면 녹화, 이 프로그램을 사용해보시겠어요? - 스크린 ...https://sergeswin.com › ...저장된 페이지 : https://sergeswin.com/1166\n",
      "\n",
      "우분투용 화면 녹화 프로그램 recordMyDesktop : 스마일서브 ...https://idchowto.com › ...저장된 페이지 : https://idchowto.com/?p=7115\n",
      "\n"
     ]
    }
   ],
   "source": [
    "for i in title_list:\n",
    "    print(i.text,end=\" : \")\n",
    "    print(str(i).split(\"\\\"\")[3])\n",
    "    print(\"\")"
   ]
  },
  {
   "cell_type": "code",
   "execution_count": 6,
   "metadata": {},
   "outputs": [
    {
     "name": "stdout",
     "output_type": "stream",
     "text": [
      "http://blog.naver.com/PostView.nhn?blogId=doksg&logNo=221454150493&parentCategoryNo=&categoryNo=19&viewDate=&isShowPopularPosts=true&from=search\n"
     ]
    }
   ],
   "source": [
    "print(\"http://blog.naver.com/PostView.nhn?blogId=doksg&logNo=221454150493&parentCategoryNo=&categoryNo=19&viewDate=&isShowPopularPosts=true&from=search\")"
   ]
  },
  {
   "cell_type": "code",
   "execution_count": 7,
   "metadata": {},
   "outputs": [],
   "source": [
    "def keyword_setup(keyword):\n",
    "    URL = 'https://www.google.com/search?q=' +keyword_setting(keyword)\n",
    "\n",
    "    driver = webdriver.Chrome(\"C:/Users/ksg/py_tutorial/chromedriver.exe\")\n",
    "    driver.implicitly_wait(1)\n",
    "\n",
    "    driver.get(URL)\n",
    "    driver.implicitly_wait(2)\n",
    "\n",
    "    html = driver.page_source\n",
    "\n",
    "    soup = BeautifulSoup(html, 'html.parser')\n",
    "    title_list = soup.find_all(name='div',attrs={'class':'r'})\n",
    "    return title_list"
   ]
  },
  {
   "cell_type": "code",
   "execution_count": 8,
   "metadata": {},
   "outputs": [],
   "source": [
    "keyword = \"모션 그래픽\"\n",
    "title_list = keyword_setup(keyword)"
   ]
  },
  {
   "cell_type": "code",
   "execution_count": 9,
   "metadata": {},
   "outputs": [
    {
     "name": "stdout",
     "output_type": "stream",
     "text": [
      "\n",
      "\n",
      "\n",
      "\n",
      "\n",
      "\n",
      "\n",
      "\n",
      "8\n",
      "\n",
      "\n"
     ]
    }
   ],
   "source": [
    "for i,val in enumerate(title_list):\n",
    "    title=str(val).split(\"\\\"\")[3]\n",
    "    if(title[0:36]==\"https://m.blog.naver.com/fastcampus/\"):\n",
    "        print(i)\n",
    "    print(\"\")"
   ]
  },
  {
   "cell_type": "code",
   "execution_count": 10,
   "metadata": {},
   "outputs": [],
   "source": [
    "channel_list=[\"https://www.fastcampus.co.kr/\",\n",
    "              \"https://m.blog.naver.com/fastcampus/\",\n",
    "              \"https://m.post.naver.com/fastcampus/\",\n",
    "              \"http://media.fastcampus.co.kr/\"]"
   ]
  },
  {
   "cell_type": "code",
   "execution_count": 11,
   "metadata": {},
   "outputs": [
    {
     "name": "stdout",
     "output_type": "stream",
     "text": [
      "29\n",
      "36\n",
      "36\n",
      "30\n"
     ]
    }
   ],
   "source": [
    "for i in channel_list:\n",
    "    print(len(i))"
   ]
  },
  {
   "cell_type": "code",
   "execution_count": 12,
   "metadata": {},
   "outputs": [],
   "source": [
    "keyword_set=['업무자동화',\n",
    "             '컴퓨터공학 올인원',\n",
    "             '올인원 패키지', \n",
    "             '패스트캠퍼스',\n",
    "             'UX/UI',\n",
    "             '자바스크립트 인강',\n",
    "             '모션그래픽 디자인',\n",
    "             '재무회계 실무',\n",
    "             '부동산 대체투자',\n",
    "             '신사업 발굴',\n",
    "             '디자인 툴',\n",
    "             '데이터 분석',\n",
    "             '딥러닝 강의',\n",
    "             '인공지능 강의',\n",
    "             'HTML/CSS 인강',\n",
    "             'iOS 강의',\n",
    "             'OpenCV 강의',\n",
    "             '디지털 마케팅']"
   ]
  },
  {
   "cell_type": "code",
   "execution_count": 14,
   "metadata": {},
   "outputs": [
    {
     "name": "stdout",
     "output_type": "stream",
     "text": [
      "업무자동화 : 0 => 파이썬을 활용한 업무자동화 CAMP - 패스트캠퍼스https://www.\n",
      "\n",
      "컴퓨터공학 올인원 : 0 => [올인원 패키지] 컴퓨터 공학 전공필수 ONLINE | 패스트캠퍼스htt\n",
      "컴퓨터공학 올인원 : 1 => [수강신청] 컴퓨터공학 올인원패키지 | 패스트캠퍼스https://www.\n",
      "\n",
      "올인원 패키지 : 0 => [올인원 패키지] 컴퓨터 공학 전공필수 ONLINE | 패스트캠퍼스htt\n",
      "올인원 패키지 : 1 => [올인원 패키지] 왕초보를 위한 프로그래밍 첫걸음 ONLINEhttps:\n",
      "올인원 패키지 : 2 => 올인원 패키지 디자인 툴 ONLINE | 패스트캠퍼스https://www\n",
      "올인원 패키지 : 3 => 업무자동화 올인원 패키지 MAX l 패스트캠퍼스 ONLINEhttps:/\n",
      "\n",
      "패스트캠퍼스 : 0 => 패스트캠퍼스 | 커리어 성장을 위한 최고의 실무교육 아카데미https:/\n",
      "\n",
      "UX/UI : 0 => UX/UI 디자인이란? - 패스트캠퍼스 미디어media.fastcampu\n",
      "\n",
      "\n",
      "모션그래픽 디자인 : 3 => 모션 그래픽 디자인 CAMP | 패스트캠퍼스 크리에이티브https://w\n",
      "\n",
      "\n",
      "부동산 대체투자 : 0 => 부동산 대체투자&자산운용 실무 | 패스트캠퍼스https://www.fas\n",
      "\n",
      "신사업 발굴 : 1 => 신사업 발굴 및 사업화 전략 l 패스트캠퍼스https://www.fast\n",
      "\n",
      "디자인 툴 : 0 => 올인원 패키지 디자인 툴 ONLINE | 패스트캠퍼스https://www\n",
      "\n",
      "데이터 분석 : 0 => 데이터 분석하고 싶은데, 통계 공부도 꼭 해야 하나요?media.fast\n",
      "\n",
      "딥러닝 강의 : 5 => 딥러닝 5일 썸머 SCHOOL - 패스트캠퍼스https://www.fas\n",
      "\n",
      "\n",
      "HTML/CSS 인강 : 5 => HTML & CSS 정복 CAMP - 패스트캠퍼스FastCampus › \n",
      "\n",
      "iOS 강의 : 4 => Swift4를 활용한 iOS 앱 개발 CAMP | 패스트캠퍼스https:\n",
      "\n",
      "OpenCV 강의 : 1 => OpenCV로 배우는 컴퓨터 비전 프로그래밍 CAMP | 강사 ...ht\n",
      "\n",
      "디지털 마케팅 : 0 => 디지털 마케팅을 파헤치다!_디지털 마케터란?media.fastcampus\n",
      "\n"
     ]
    }
   ],
   "source": [
    "for keyword in keyword_set:\n",
    "    title_list = keyword_setup(keyword)\n",
    "    for i,val in enumerate(title_list):\n",
    "        for channel in channel_list:\n",
    "            title=str(val).split(\"\\\"\")[3]\n",
    "            if(title[0:len(channel)]==channel):\n",
    "                print(keyword,end=\" : \")\n",
    "                print(i,end=\" => \")\n",
    "                print(val.text[0:40])\n",
    "    print(\"\")"
   ]
  },
  {
   "cell_type": "code",
   "execution_count": null,
   "metadata": {},
   "outputs": [],
   "source": []
  }
 ],
 "metadata": {
  "kernelspec": {
   "display_name": "Python 3",
   "language": "python",
   "name": "python3"
  },
  "language_info": {
   "codemirror_mode": {
    "name": "ipython",
    "version": 3
   },
   "file_extension": ".py",
   "mimetype": "text/x-python",
   "name": "python",
   "nbconvert_exporter": "python",
   "pygments_lexer": "ipython3",
   "version": "3.7.3"
  }
 },
 "nbformat": 4,
 "nbformat_minor": 2
}
