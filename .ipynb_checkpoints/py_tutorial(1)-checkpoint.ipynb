{
 "cells": [
  {
   "cell_type": "markdown",
   "metadata": {},
   "source": [
    "# python 문법 기초\n",
    "\n",
    "### 처음 코딩을 시작할때는 기본적으로 Hello World!를 출력해 보는것부터 시작합니다. "
   ]
  },
  {
   "cell_type": "code",
   "execution_count": 1,
   "metadata": {},
   "outputs": [
    {
     "name": "stdout",
     "output_type": "stream",
     "text": [
      "Hello World!\n"
     ]
    }
   ],
   "source": [
    "print(\"Hello World!\")"
   ]
  },
  {
   "cell_type": "markdown",
   "metadata": {},
   "source": [
    "## 1. 기본개념\n",
    "\n",
    "프로그램을 작성하기 위해서 기본적으로 꼭 이해해야 하는 개념중에 하나는 **변수와 연산자**에 대한 개념입니다.\n",
    "\n",
    "### 1.1 변수\n",
    "  \n",
    "컴퓨터에는 메모리가 있고 우리는 연산을 위한 데이터를 그 메모리에 저장합니다.  \n",
    "하지만 그 메모리 주소는 우리가 이해하기 어려운 형태의 숫자로 저장되어 있기 때문에 메모리주소를 요청하여 데이터를 가져오기가 쉽지 않습니다.  \n",
    "따라서 우리가 접근할 데이터가 있는 메모리에 별명을 지어줘서 쉽게 메모리에 접근할수 있도록 해주는데 이걸 **변수명** 이라고 합니다.  \n",
    "\n",
    "\n",
    "변수를 선언해봅시다.\n",
    "\n",
    "### 먼저 value 라는 변수에 숫자 5를 저장해보겠습니다. \n",
    "\n"
   ]
  },
  {
   "cell_type": "code",
   "execution_count": 3,
   "metadata": {},
   "outputs": [],
   "source": [
    "value = 5"
   ]
  },
  {
   "cell_type": "markdown",
   "metadata": {},
   "source": [
    "### 1.2 연산자\n",
    "\n",
    "연산자는 다양한 연산을 위해 약속된 기호 입니다.  \n",
    "**꼭 인터넷에 파이썬 연산자를 검색해보세요!**"
   ]
  },
  {
   "cell_type": "code",
   "execution_count": 5,
   "metadata": {},
   "outputs": [
    {
     "name": "stdout",
     "output_type": "stream",
     "text": [
      "3\n"
     ]
    }
   ],
   "source": [
    "val1=1\n",
    "val2=2\n",
    "\n",
    "result = val1 + val2\n",
    "print(result)"
   ]
  },
  {
   "cell_type": "markdown",
   "metadata": {},
   "source": [
    "## 2. 다양한 데이터 타입\n",
    "\n",
    "여기서부터는 python에서 표현가능한 데이터 type을 알아 볼 예정입니다.  \n",
    "\n",
    "### 2.1. 정수\n",
    "정수는 소수점아래 숫자가 없는 일반적인 숫자  \n",
    "\n",
    "ex) value = 5\n",
    "\n",
    "### 2.2. 실수\n",
    "실수는 소수점아래 숫자가 있는 숫자\n",
    "\n",
    "ex) value = 1.3\n",
    "\n",
    "### 2.3. 문자\n",
    "문자는 문자 한개를 의미합니다.  \n",
    "문자열을 선언할때는 ' ' <- 사이에 넣습니다. \n",
    "\n",
    "ex) char_value = 'a'\n",
    "\n",
    "### 2.4. 문자열\n",
    "문자는 문자의 배열입니다.\n",
    "\n",
    "ex) string_value = \"Hello world!\"\n",
    "\n",
    "### 2.5. 배열형 변수\n",
    "배열형 변수에는 다양한 종류가 있습니다. \n",
    "\n",
    "#### 2.5.1 list\n",
    "\n",
    "수정가능한 다양한 기능이 있는 배열형 변수 입니다.  \n",
    "[ ] <- 사이에 넣습니다.   \n",
    "\n",
    "다양한 타입의 변수가 함께 들어갈수 있습니다. \n",
    "\n",
    "ex) list_value = [1,2,3,4]\n",
    "\n",
    "#### 2.5.2 tuple\n",
    "**선언이후에는 수정이 불가능한** 배열형 변수입니다. \n",
    "\n",
    "( ) <- 사이에 넣습니다. \n",
    "\n",
    "다양한 타입의 변수가 함께 들어갈수 있습니다. \n",
    "\n",
    "ex) tuple_value = (3,45,5,32)\n",
    "\n",
    "#### 2.5.3 dictionary\n",
    "key-value 쌍으로 이루어져 있는 변수형태입니다.\n",
    "\n",
    "{} <- 사이에 아래와 같은 방식으로 선언합니다. \n",
    "\n",
    "ex) dict_value = {'name' : 'ksg', 'age' : 29, 'email' : \"korea@gmail.com\"}"
   ]
  },
  {
   "cell_type": "code",
   "execution_count": 6,
   "metadata": {},
   "outputs": [],
   "source": [
    "int_val = 5\n",
    "float_val =1.3\n",
    "char_val = 'a'\n",
    "str_val = 'Hello World!'\n",
    "\n",
    "list_val = [1,2,3,5,'hello','new type']\n",
    "tuple_val = (1,45,3,23,\"New type\")\n",
    "\n",
    "dict_val = {'name':'ksg', 'age':29, 'email' : 'korea@gmail.com'}"
   ]
  },
  {
   "cell_type": "markdown",
   "metadata": {},
   "source": [
    "### 직접한번 선언해볼까요?\n",
    "\n",
    "list, tuple, dictionary만 선언해봅시다."
   ]
  },
  {
   "cell_type": "code",
   "execution_count": null,
   "metadata": {},
   "outputs": [],
   "source": []
  },
  {
   "cell_type": "markdown",
   "metadata": {},
   "source": [
    "### (필수!) python을 혼자공부할때 아주 중요한 명령어 dir\n",
    "\n",
    "도대체 지금 뭐해야될지 지금 가지고 있는 변수가 무슨 일을 할수 있는 놈인지 전혀 모르겠을때 사용할수 있는 명령어가 있습니다. \n",
    "\n",
    "## dir\n",
    "\n",
    "입니다. \n",
    "\n",
    "같이 한번 사용해볼까요?"
   ]
  },
  {
   "cell_type": "code",
   "execution_count": 7,
   "metadata": {
    "collapsed": true
   },
   "outputs": [
    {
     "data": {
      "text/plain": [
       "['__add__',\n",
       " '__class__',\n",
       " '__contains__',\n",
       " '__delattr__',\n",
       " '__delitem__',\n",
       " '__dir__',\n",
       " '__doc__',\n",
       " '__eq__',\n",
       " '__format__',\n",
       " '__ge__',\n",
       " '__getattribute__',\n",
       " '__getitem__',\n",
       " '__gt__',\n",
       " '__hash__',\n",
       " '__iadd__',\n",
       " '__imul__',\n",
       " '__init__',\n",
       " '__init_subclass__',\n",
       " '__iter__',\n",
       " '__le__',\n",
       " '__len__',\n",
       " '__lt__',\n",
       " '__mul__',\n",
       " '__ne__',\n",
       " '__new__',\n",
       " '__reduce__',\n",
       " '__reduce_ex__',\n",
       " '__repr__',\n",
       " '__reversed__',\n",
       " '__rmul__',\n",
       " '__setattr__',\n",
       " '__setitem__',\n",
       " '__sizeof__',\n",
       " '__str__',\n",
       " '__subclasshook__',\n",
       " 'append',\n",
       " 'clear',\n",
       " 'copy',\n",
       " 'count',\n",
       " 'extend',\n",
       " 'index',\n",
       " 'insert',\n",
       " 'pop',\n",
       " 'remove',\n",
       " 'reverse',\n",
       " 'sort']"
      ]
     },
     "execution_count": 7,
     "metadata": {},
     "output_type": "execute_result"
    }
   ],
   "source": [
    "dir(list_val)"
   ]
  },
  {
   "cell_type": "code",
   "execution_count": 8,
   "metadata": {
    "collapsed": true
   },
   "outputs": [
    {
     "data": {
      "text/plain": [
       "['__add__',\n",
       " '__class__',\n",
       " '__contains__',\n",
       " '__delattr__',\n",
       " '__dir__',\n",
       " '__doc__',\n",
       " '__eq__',\n",
       " '__format__',\n",
       " '__ge__',\n",
       " '__getattribute__',\n",
       " '__getitem__',\n",
       " '__getnewargs__',\n",
       " '__gt__',\n",
       " '__hash__',\n",
       " '__init__',\n",
       " '__init_subclass__',\n",
       " '__iter__',\n",
       " '__le__',\n",
       " '__len__',\n",
       " '__lt__',\n",
       " '__mul__',\n",
       " '__ne__',\n",
       " '__new__',\n",
       " '__reduce__',\n",
       " '__reduce_ex__',\n",
       " '__repr__',\n",
       " '__rmul__',\n",
       " '__setattr__',\n",
       " '__sizeof__',\n",
       " '__str__',\n",
       " '__subclasshook__',\n",
       " 'count',\n",
       " 'index']"
      ]
     },
     "execution_count": 8,
     "metadata": {},
     "output_type": "execute_result"
    }
   ],
   "source": [
    "dir(tuple_val)"
   ]
  },
  {
   "cell_type": "code",
   "execution_count": 9,
   "metadata": {
    "collapsed": true
   },
   "outputs": [
    {
     "data": {
      "text/plain": [
       "['__class__',\n",
       " '__contains__',\n",
       " '__delattr__',\n",
       " '__delitem__',\n",
       " '__dir__',\n",
       " '__doc__',\n",
       " '__eq__',\n",
       " '__format__',\n",
       " '__ge__',\n",
       " '__getattribute__',\n",
       " '__getitem__',\n",
       " '__gt__',\n",
       " '__hash__',\n",
       " '__init__',\n",
       " '__init_subclass__',\n",
       " '__iter__',\n",
       " '__le__',\n",
       " '__len__',\n",
       " '__lt__',\n",
       " '__ne__',\n",
       " '__new__',\n",
       " '__reduce__',\n",
       " '__reduce_ex__',\n",
       " '__repr__',\n",
       " '__setattr__',\n",
       " '__setitem__',\n",
       " '__sizeof__',\n",
       " '__str__',\n",
       " '__subclasshook__',\n",
       " 'clear',\n",
       " 'copy',\n",
       " 'fromkeys',\n",
       " 'get',\n",
       " 'items',\n",
       " 'keys',\n",
       " 'pop',\n",
       " 'popitem',\n",
       " 'setdefault',\n",
       " 'update',\n",
       " 'values']"
      ]
     },
     "execution_count": 9,
     "metadata": {},
     "output_type": "execute_result"
    }
   ],
   "source": [
    "dir(dict_val)"
   ]
  },
  {
   "cell_type": "markdown",
   "metadata": {},
   "source": [
    "### 이제 dir을 통해 알아낸 각 배열형 변수에서 사용가능한 기능들을 사용해보기\n",
    "\n",
    "그리고 list, tuple, dictionary의 차이점이 뭐라고 생각하세요?  \n",
    "직접사용해보면서 같이 한번 생각해볼까요?"
   ]
  },
  {
   "cell_type": "code",
   "execution_count": null,
   "metadata": {},
   "outputs": [],
   "source": []
  },
  {
   "cell_type": "code",
   "execution_count": null,
   "metadata": {},
   "outputs": [],
   "source": []
  },
  {
   "cell_type": "code",
   "execution_count": null,
   "metadata": {},
   "outputs": [],
   "source": []
  },
  {
   "cell_type": "code",
   "execution_count": null,
   "metadata": {},
   "outputs": [],
   "source": []
  },
  {
   "cell_type": "markdown",
   "metadata": {},
   "source": [
    "## 3. 조건문과 반복문\n",
    "\n",
    "조건문을 통해 특정상황에 원하는 동작을 수행하도록 만들수 있으며\n",
    "반복문을 통해서 원하는 만큼 동작을 반복적으로 수행하도록 만들수 있습니다. \n",
    "\n",
    "### 3.1 조건문(if, elif, else)\n",
    "\n",
    "특정상황에 적합한 동작을 수행하도록 하기 위해선 조건문이 필수적 입니다. \n",
    "\n",
    "조건문 사용 예시는 아래와 같습니다.  \n",
    "\n",
    "---\n",
    "\n",
    "```python\n",
    "if(a<5):  \n",
    "    a=a+1  \n",
    "elif(a==5):  \n",
    "    print(\"a is 5\")  \n",
    "    a=0  \n",
    "else:  \n",
    "    print(\"a is bigger than 5\")  \n",
    "    a=0  \n",
    "\n",
    "```\n",
    "\n",
    "---"
   ]
  },
  {
   "cell_type": "code",
   "execution_count": null,
   "metadata": {},
   "outputs": [],
   "source": []
  },
  {
   "cell_type": "code",
   "execution_count": null,
   "metadata": {},
   "outputs": [],
   "source": []
  },
  {
   "cell_type": "markdown",
   "metadata": {},
   "source": [
    "### 3.2 반복문(for, while)\n",
    "\n",
    "특정 조건에 맞춰서 동작을 반복적으로 수행하도록 하는 기능입니다. \n",
    "\n",
    "\n",
    "**for** 문과 **while**문을 이용하면 원하는 반복동작은 거의다 수행할 수 있습니다. \n",
    "\n",
    "for문은 특정 조건만큼 반복하는 상황을 만들때 자주 사용하며\n",
    "\n",
    "while은 특정 동작이 나타날때까지 반복할때 자주 사용합니다. \n",
    "\n",
    "![img](./for_while.png)\n",
    "\n",
    "\n",
    "#### 3.2.1 for문\n",
    "\n",
    "python에서 for문은 기존의 C/C++과 같은 컴파일 언어보다 사용하기가 훨씬 간결합니다.  \n",
    "크게 4가지 정도 사용방법이 있는데 아래 방식을 따라서 여러번 쳐보시면 원하시는 상황에 맞춰서 금방 사용하실 수 있을겁니다. \n",
    "\n",
    "---\n",
    "\n",
    "* 원하는 횟수만큼 반복 \n",
    "\n",
    "range() <- 괄호안에 반복하고 싶은 횟수를 넣습니다.  \n",
    "\n",
    "range는 range(시작,끝,간격)를 채워서 완성합니다.  \n",
    "\n",
    "range(0,5,1) 왼쪽과 같이 작성한다면  \n",
    "\n",
    "0부터 시작하여 5보다 작은 범위의 숫자를 1간격으로 본다.  를 의미합니다.  \n",
    "\n",
    "사실 어렵지 않습니다. 그냥 써보는게 사실 가장 좋습니다.   \n",
    "\n",
    "range(1,10,2)는   \n",
    "\n",
    "1부터 10보다 작은 범위의 숫자를 2간격으로 본다는 것을 의미합니다.  \n",
    "\n",
    "그런데 range(5) 이렇게 적으면 어떻게 될까요?  \n",
    "\n",
    "()안에 숫자가 하나만 있다면  \n",
    "\n",
    "**0부터 시작하고 1간격으로 ()안의 숫자까지의 범위를 의미한다** 가 됩니다.  \n",
    "\n",
    "직접써보면 바로 이해가되니 지금부터 같이 사용해보시죠 \n",
    "\n",
    "\n",
    "\n",
    "```python\n",
    "for i in range(5):\n",
    "    print(i)\n",
    "```\n",
    "\n",
    "---\n",
    "\n",
    "* 배열안에 있는 원소를 처음부터 끝까지 하나씩 사용하는 방법\n",
    "\n",
    "```python\n",
    "list_val = ['a','b','c']\n",
    "for i in list_val:\n",
    "    print(i)\n",
    "```\n",
    "\n",
    "---\n",
    "\n",
    "* 배열의 길이만큼 동작을 반복하는 방법\n",
    "```python\n",
    "list_val2 = ['a','c','w']\n",
    "for i in range(len(list_val2)):\n",
    "    print(i)\n",
    "```\n",
    "\n",
    "---\n",
    "\n",
    "\n",
    "* 배열의 위치(index)와 값을 동시에 사용하는 방법\n",
    "\n",
    "```python\n",
    "list_val3=[9,8,7,6,5,4,3]\n",
    "for i, value in enumerate(list_val3):\n",
    "    print(i,value)\n",
    "```\n",
    "\n",
    "\n"
   ]
  },
  {
   "cell_type": "markdown",
   "metadata": {},
   "source": [
    "위에 작성된 내용을 직접 사용해보고 어떤 원리로 동작하는 것인지 이해해 볼까요?"
   ]
  },
  {
   "cell_type": "code",
   "execution_count": null,
   "metadata": {},
   "outputs": [],
   "source": []
  },
  {
   "cell_type": "code",
   "execution_count": null,
   "metadata": {},
   "outputs": [],
   "source": []
  },
  {
   "cell_type": "markdown",
   "metadata": {},
   "source": [
    "### 3.3 반복문의 중첩\n",
    "\n",
    "실제 코딩을 진행하다보면 단일 반복문을 사용하는 경우보다 이중 for문을 사용하는 경우가 많습니다. \n",
    "따라서 이중, 혹은 삼중과 같은 중첩된 반복문을 사용하는 것에 익숙해 지는것이 매우 좋은데요 \n",
    "\n",
    "실제 한번 수행해보면서 반복문을 어떻게 작성하는게 좋은지 그리고 익숙해 지기 위한 방법을 이해 해보도록 합시다. \n",
    "\n",
    "```python\n",
    "\n",
    "for i in range(5):\n",
    "    for j in range(i):\n",
    "        print(i,j, end=' ')\n",
    "    print(\"\")\n",
    "\n",
    "```\n"
   ]
  },
  {
   "cell_type": "code",
   "execution_count": 17,
   "metadata": {
    "scrolled": true
   },
   "outputs": [
    {
     "name": "stdout",
     "output_type": "stream",
     "text": [
      "0 : \n",
      "1 : 0 \n",
      "2 : 0 1 \n",
      "3 : 0 1 2 \n",
      "4 : 0 1 2 3 \n"
     ]
    }
   ],
   "source": [
    "for i in range(5):\n",
    "    print(i,end=' : ')\n",
    "    for j in range(i):\n",
    "        print(j, end=' ')\n",
    "    print(\"\")"
   ]
  },
  {
   "cell_type": "markdown",
   "metadata": {},
   "source": [
    "### 연습문제 \n",
    "\n",
    "#### Q.1 \n",
    "\n",
    "아래와 같은 모양을 이중 for문을 이용하여 출력하라\n",
    "\n",
    "```\n",
    "*\n",
    "**\n",
    "***\n",
    "****\n",
    "*****\n",
    "```\n",
    "\n",
    "\n"
   ]
  },
  {
   "cell_type": "code",
   "execution_count": null,
   "metadata": {},
   "outputs": [],
   "source": []
  },
  {
   "cell_type": "markdown",
   "metadata": {},
   "source": [
    "\n",
    "#### Q.2\n",
    "\n",
    "아래와 같은 모양을 이중 for문을 이용하여 출력하라\n",
    "\n",
    "```\n",
    "*****\n",
    "****\n",
    "***\n",
    "**\n",
    "*\n",
    "```"
   ]
  },
  {
   "cell_type": "code",
   "execution_count": null,
   "metadata": {},
   "outputs": [],
   "source": []
  },
  {
   "cell_type": "markdown",
   "metadata": {},
   "source": [
    "### 3.4 while문 \n",
    "\n",
    "while은 특정상황이 만족할때까지 사용하는 반복문입니다.\n",
    "\n",
    "아래와 같이 사용합니다. \n",
    "\n",
    "```python\n",
    "while(i<5):\n",
    "    i=i+1\n",
    "    print(i)\n",
    "    \n",
    "```\n",
    "\n",
    "#### 3.4.1 break와 continue\n",
    "\n",
    "while문을 수행하는 중간에 while문을 중단하고 싶을때는 break를 사용하고 \n",
    "\n",
    "수행하는 중간에 처음으로 돌아가서 다시 수행하도록 만들고 싶을때는 continue를 사용합니다. \n",
    "\n",
    "아래 코드를 보고 실행해보면서 이해해 봅시다.\n",
    "\n",
    "```python\n",
    "i=0\n",
    "while(1):\n",
    "    if(i==500):\n",
    "        print(i is 500)\n",
    "        break\n",
    "    i=i+1\n",
    "    if(i%100!=0):\n",
    "        continue\n",
    "    print(i)\n",
    "```"
   ]
  },
  {
   "cell_type": "code",
   "execution_count": null,
   "metadata": {},
   "outputs": [],
   "source": []
  },
  {
   "cell_type": "markdown",
   "metadata": {},
   "source": [
    "# etc\n",
    "\n",
    "# e.1 input()\n",
    "\n",
    "변수에 값을 입력받는 방법 입니다.\n",
    "\n",
    "```python\n",
    "a = input()\n",
    "```\n",
    "\n",
    "```python\n",
    "a = input(\"입력 값 : \")\n",
    "```\n"
   ]
  },
  {
   "cell_type": "code",
   "execution_count": null,
   "metadata": {},
   "outputs": [],
   "source": []
  },
  {
   "cell_type": "markdown",
   "metadata": {},
   "source": [
    "# e.2 open()\n",
    "\n",
    "file을 열고 값을 읽거오거나 저장하는 방법 입니다.\n",
    "\n",
    "|파일열기모드|설명|\n",
    "|:--:|:-|\n",
    "|r|읽기모드 - **파일 읽기**만 가능|\n",
    "|w|쓰기모드 - **파일 쓰기**만 가능|\n",
    "|a|추가모드 - **파일의 마지막에 새로운 내용 추가**|\n",
    "\n",
    "## file 쓰기\n",
    "\n",
    "```python\n",
    "PATH = \"./open_function_test.txt\"\n",
    "f= open(PATH,'w') # 쓰기모드로 파일 open\n",
    "f.write(\"Hello world!\")\n",
    "f.close()\n",
    "```"
   ]
  },
  {
   "cell_type": "code",
   "execution_count": 1,
   "metadata": {},
   "outputs": [],
   "source": [
    "PATH = \"./open_function_test.txt\"\n",
    "f= open(PATH,'w') # 쓰기모드로 파일 open\n",
    "f.write(\"Hello world!\")\n",
    "f.close()"
   ]
  },
  {
   "cell_type": "markdown",
   "metadata": {},
   "source": [
    "## file 읽기\n",
    "\n",
    "```python\n",
    "PATH = \"./open_function_test.txt\"\n",
    "f= open(PATH,'r') # 읽기모드로 파일 open\n",
    "data=f.read() # read()는 파일 전체를 읽어서 data에 저장한다.\n",
    "print(data)\n",
    "f.close()\n",
    "```"
   ]
  },
  {
   "cell_type": "code",
   "execution_count": 3,
   "metadata": {},
   "outputs": [
    {
     "name": "stdout",
     "output_type": "stream",
     "text": [
      "Hello world!\n"
     ]
    }
   ],
   "source": [
    "PATH = \"./open_function_test.txt\"\n",
    "f= open(PATH,'r') # 읽기모드로 파일 open\n",
    "data=f.read()\n",
    "print(data)\n",
    "f.close()"
   ]
  },
  {
   "cell_type": "markdown",
   "metadata": {},
   "source": [
    "## file에 데이터 추가\n",
    "\n",
    "```python\n",
    "PATH = \"./open_function_test.txt\"\n",
    "f= open(PATH,'a') # 데이터추가 모드로 파일 open\n",
    "f.write(\"new hello\")\n",
    "f.close()\n",
    "```"
   ]
  },
  {
   "cell_type": "code",
   "execution_count": 4,
   "metadata": {},
   "outputs": [],
   "source": [
    "PATH = \"./open_function_test.txt\"\n",
    "f= open(PATH,'a') # 데이터추가 모드로 파일 open\n",
    "f.write(\"new hello\")\n",
    "f.close()"
   ]
  },
  {
   "cell_type": "code",
   "execution_count": 5,
   "metadata": {},
   "outputs": [
    {
     "name": "stdout",
     "output_type": "stream",
     "text": [
      "Hello world!new hello\n"
     ]
    }
   ],
   "source": [
    "PATH = \"./open_function_test.txt\"\n",
    "f= open(PATH,'r') # 읽기모드로 파일 open\n",
    "data=f.read()\n",
    "print(data)\n",
    "f.close()"
   ]
  },
  {
   "cell_type": "markdown",
   "metadata": {},
   "source": [
    "## readline()\n",
    "\n",
    "readline()은 한줄씩 데이터를 읽어온다.\n",
    "\n",
    "```python\n",
    "\n",
    "f= open(\"./open_funciton_test.txt\", 'w')\n",
    "for i in range(3):\n",
    "    f.write(\"%d번째 줄입니다\\n.\"%i)\n",
    "f.close()\n",
    "```\n",
    "\n",
    "### 아래와 같이 한줄씩 읽어온다.   \n",
    "\n",
    "\n",
    "```python\n",
    "f = open(\"./open_function_test.txt\",\"r\")\n",
    "while(1):\n",
    "    data = f.readline()\n",
    "    if not data: break\n",
    "    print(data)\n",
    "f.close()\n",
    "```\n",
    "\n",
    "\n",
    "\n"
   ]
  },
  {
   "cell_type": "code",
   "execution_count": 15,
   "metadata": {},
   "outputs": [],
   "source": [
    "f= open(\"./open_function_test.txt\", 'w')\n",
    "for i in range(3):\n",
    "    f.write(\"%d번째 줄입니다\\n\"%i)\n",
    "f.close()"
   ]
  },
  {
   "cell_type": "code",
   "execution_count": 16,
   "metadata": {},
   "outputs": [
    {
     "name": "stdout",
     "output_type": "stream",
     "text": [
      "0번째 줄입니다\n",
      "\n",
      "1번째 줄입니다\n",
      "\n",
      "2번째 줄입니다\n",
      "\n"
     ]
    }
   ],
   "source": [
    "f = open(\"./open_function_test.txt\",\"r\")\n",
    "while(1):\n",
    "    data = f.readline()\n",
    "    if not data: break\n",
    "    print(data)\n",
    "f.close()\n"
   ]
  },
  {
   "cell_type": "markdown",
   "metadata": {},
   "source": [
    "## with를 사용한 open 함수사용 간편화\n",
    "\n",
    "위 코드를 보면 open한뒤에 close를 꼭해주고 있다.  \n",
    "\n",
    "필요한 일이 끝나면 자동으로 close 되면 편할것이다.  \n",
    "\n",
    "대부분의 외부 코드를 보다보면 with를 사용하고 있는 모습을 볼수 있다.  \n",
    "\n",
    "본인의 코드에서 open close를 정확하게 명시하겠다면 그것은 자유다\n",
    "\n",
    "하지만 외부 코드를 읽기 위해서는 with를 이해하는 것이 필요하다.\n",
    "\n",
    "**with는 open()을 해서 값을 읽고 자동으로 close()해주는 방법이다.**\n",
    "\n",
    "```python\n",
    "\n",
    "with open(\"./with_open_function.txt\",'w') as f:\n",
    "    f.write(\"Life is short, we have to do something!!\\n\")\n",
    "\n",
    "data = None\n",
    "with open(\"./with_open_function.txt\",'r') as f:\n",
    "    data = f.read()\n",
    "\n",
    "print(data)\n",
    "\n",
    "```\n",
    "\n"
   ]
  },
  {
   "cell_type": "code",
   "execution_count": 17,
   "metadata": {},
   "outputs": [
    {
     "name": "stdout",
     "output_type": "stream",
     "text": [
      "Life is short, we have to do something!!\n",
      "\n"
     ]
    }
   ],
   "source": [
    "with open(\"./with_open_function.txt\",'w') as f:\n",
    "    f.write(\"Life is short, we have to do something!!\\n\")\n",
    "\n",
    "data = None\n",
    "with open(\"./with_open_function.txt\",'r') as f:\n",
    "    data = f.read()\n",
    "\n",
    "print(data)"
   ]
  },
  {
   "cell_type": "markdown",
   "metadata": {},
   "source": [
    "# e.3 내장 함수\n",
    "\n",
    "python에는 엄청나게 많은 내장함수가 있다.  \n",
    "\n",
    "https://wikidocs.net/32#id\n",
    "\n",
    "위 주소에서 확인하고 필요할때 찾아서 쓰도록 하자\n",
    "\n",
    "왠만한 기능은 다 있다. "
   ]
  },
  {
   "cell_type": "code",
   "execution_count": null,
   "metadata": {},
   "outputs": [],
   "source": []
  }
 ],
 "metadata": {
  "kernelspec": {
   "display_name": "Python 3",
   "language": "python",
   "name": "python3"
  },
  "language_info": {
   "codemirror_mode": {
    "name": "ipython",
    "version": 3
   },
   "file_extension": ".py",
   "mimetype": "text/x-python",
   "name": "python",
   "nbconvert_exporter": "python",
   "pygments_lexer": "ipython3",
   "version": "3.7.3"
  }
 },
 "nbformat": 4,
 "nbformat_minor": 2
}
