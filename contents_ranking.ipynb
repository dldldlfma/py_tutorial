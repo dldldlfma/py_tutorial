{
 "cells": [
  {
   "cell_type": "markdown",
   "metadata": {},
   "source": [
    "C:\\Users\\ksg\\py_tutorial"
   ]
  },
  {
   "cell_type": "code",
   "execution_count": 1,
   "metadata": {},
   "outputs": [],
   "source": [
    "from selenium import webdriver\n",
    "from bs4 import BeautifulSoup\n",
    "from pprint import pprint"
   ]
  },
  {
   "cell_type": "code",
   "execution_count": 2,
   "metadata": {},
   "outputs": [],
   "source": [
    "def keyword_setting(word):\n",
    "    change_word = list(word)\n",
    "    for i in range(len(change_word)):\n",
    "        if(change_word[i]==' '):\n",
    "            change_word[i]='+'\n",
    "    change_word = ''.join(change_word)\n",
    "    return change_word"
   ]
  },
  {
   "cell_type": "code",
   "execution_count": 3,
   "metadata": {},
   "outputs": [],
   "source": [
    "keyword = 'linux 동영상 녹화'\n",
    "URL = 'https://www.google.com/search?q=' +keyword_setting(keyword)\n",
    "\n",
    "driver = webdriver.Chrome(\"C:/Users/ksg/py_tutorial/chromedriver.exe\")\n",
    "driver.implicitly_wait(1)\n",
    "\n",
    "driver.get(URL)\n",
    "driver.implicitly_wait(2)\n",
    "\n",
    "html = driver.page_source\n",
    "\n",
    "soup = BeautifulSoup(html, 'html.parser')\n",
    "title_list = soup.find_all(name='div',attrs={'class':'r'})"
   ]
  },
  {
   "cell_type": "code",
   "execution_count": 4,
   "metadata": {},
   "outputs": [
    {
     "data": {
      "text/plain": [
       "bs4.element.ResultSet"
      ]
     },
     "execution_count": 4,
     "metadata": {},
     "output_type": "execute_result"
    }
   ],
   "source": [
    "type(title_list)"
   ]
  },
  {
   "cell_type": "code",
   "execution_count": 5,
   "metadata": {},
   "outputs": [
    {
     "name": "stdout",
     "output_type": "stream",
     "text": [
      "리눅스용 무료 화면 녹화 프로그램 - SimpleScreenRecorderhttps://webnautes.tistory.com › ...저장된 페이지 : https://webnautes.tistory.com/1263\n",
      "\n",
      "리눅스용 무료 화면 녹화 앱 5가지 - ITWorld Koreawww.itworld.co.kr › news저장된 페이지 : http://www.itworld.co.kr/news/105793\n",
      "\n",
      "우분투(Ubuntu)에서 화면 녹화를 쉽게 할 수 있는 ... - PinkWinkhttps://pinkwink.kr › ...저장된 페이지 : https://pinkwink.kr/913\n",
      "\n",
      "화면녹화 프로그램 (Linux에서!) : 네이버 블로그blog.naver.com › PostView저장된 페이지 : http://blog.naver.com/PostView.nhn?blogId=doksg&amp;logNo=221454150493&amp;parentCategoryNo=&amp;categoryNo=19&amp;viewDate=&amp;isShowPopularPosts=true&amp;from=search\n",
      "\n",
      "리눅스 추천 동영상 녹화 프로그램 Kazam - The Man 낙서장https://lucy123.tistory.com › entry › 리눅스-추천-동영상-녹화-프로그램-...저장된 페이지 : https://lucy123.tistory.com/entry/%EB%A6%AC%EB%88%85%EC%8A%A4-%EC%B6%94%EC%B2%9C-%EB%8F%99%EC%98%81%EC%83%81-%EB%85%B9%ED%99%94-%ED%94%84%EB%A1%9C%EA%B7%B8%EB%9E%A8-Kazam\n",
      "\n",
      "우분투 16.04에서 obs로 화면 녹화하기 | KWANGSIK LEE's logwww.kwangsiklee.com › 2017/12 › 우분투-16-04에서-obs로-화면-녹화...저장된 페이지 : http://www.kwangsiklee.com/2017/12/%EC%9A%B0%EB%B6%84%ED%88%AC-16-04%EC%97%90%EC%84%9C-obs%EB%A1%9C-%ED%99%94%EB%A9%B4-%EB%85%B9%ED%99%94%ED%95%98%EA%B8%B0/\n",
      "\n",
      "리눅스(우분투) 화면 동영상 캡쳐 프로그램 ... - 바다야크https://badayak.com › ...저장된 페이지 : https://badayak.com/3834\n",
      "\n",
      "[프리웨어] 리눅스(민트) 화면녹화, 동영상 캡처 ... - Do It Yourself!https://deneb21.tistory.com › ...저장된 페이지 : https://deneb21.tistory.com/372\n",
      "\n",
      "리눅스 화면 녹화, 이 프로그램을 사용해보시겠어요? - 스크린 ...https://sergeswin.com › ...저장된 페이지 : https://sergeswin.com/1166\n",
      "\n",
      "우분투용 화면 녹화 프로그램 recordMyDesktop : 스마일서브 ...https://idchowto.com › ...저장된 페이지 : https://idchowto.com/?p=7115\n",
      "\n"
     ]
    }
   ],
   "source": [
    "for i in title_list:\n",
    "    print(i.text,end=\" : \")\n",
    "    print(str(i).split(\"\\\"\")[3])\n",
    "    print(\"\")"
   ]
  },
  {
   "cell_type": "code",
   "execution_count": 6,
   "metadata": {},
   "outputs": [
    {
     "name": "stdout",
     "output_type": "stream",
     "text": [
      "http://blog.naver.com/PostView.nhn?blogId=doksg&logNo=221454150493&parentCategoryNo=&categoryNo=19&viewDate=&isShowPopularPosts=true&from=search\n"
     ]
    }
   ],
   "source": [
    "print(\"http://blog.naver.com/PostView.nhn?blogId=doksg&logNo=221454150493&parentCategoryNo=&categoryNo=19&viewDate=&isShowPopularPosts=true&from=search\")"
   ]
  },
  {
   "cell_type": "code",
   "execution_count": 32,
   "metadata": {},
   "outputs": [],
   "source": [
    "def keyword_setup(keyword):\n",
    "    URL = 'https://www.google.com/search?q=' +keyword_setting(keyword)\n",
    "\n",
    "    driver = webdriver.Chrome(\"C:/Users/ksg/py_tutorial/chromedriver.exe\")\n",
    "    driver.implicitly_wait(1)\n",
    "\n",
    "    driver.get(URL)\n",
    "    driver.implicitly_wait(1)\n",
    "\n",
    "    html = driver.page_source\n",
    "\n",
    "    soup = BeautifulSoup(html, 'html.parser')\n",
    "    title_list = soup.find_all(name='div',attrs={'class':'r'})\n",
    "    driver.close()\n",
    "    return title_list"
   ]
  },
  {
   "cell_type": "code",
   "execution_count": 8,
   "metadata": {},
   "outputs": [],
   "source": [
    "keyword = \"모션 그래픽\"\n",
    "title_list = keyword_setup(keyword)"
   ]
  },
  {
   "cell_type": "code",
   "execution_count": 9,
   "metadata": {},
   "outputs": [
    {
     "name": "stdout",
     "output_type": "stream",
     "text": [
      "\n",
      "\n",
      "\n",
      "\n",
      "\n",
      "\n",
      "\n",
      "\n",
      "\n",
      "9\n",
      "\n"
     ]
    }
   ],
   "source": [
    "for i,val in enumerate(title_list):\n",
    "    title=str(val).split(\"\\\"\")[3]\n",
    "    if(title[0:36]==\"https://m.blog.naver.com/fastcampus/\"):\n",
    "        print(i)\n",
    "    print(\"\")"
   ]
  },
  {
   "cell_type": "code",
   "execution_count": 10,
   "metadata": {},
   "outputs": [],
   "source": [
    "channel_list=[\"http://media.fastcampus.co.kr/\",\n",
    "              \"https://www.fastcampus.co.kr/\",\n",
    "              \"https://m.blog.naver.com/fastcampus/\",\n",
    "              \"https://m.post.naver.com/fastcampus/\",\n",
    "              \"https://blog.naver.com/fastcampus/\"]"
   ]
  },
  {
   "cell_type": "code",
   "execution_count": 11,
   "metadata": {},
   "outputs": [
    {
     "name": "stdout",
     "output_type": "stream",
     "text": [
      "30\n",
      "29\n",
      "36\n",
      "36\n",
      "34\n"
     ]
    }
   ],
   "source": [
    "for i in channel_list:\n",
    "    print(len(i))"
   ]
  },
  {
   "cell_type": "code",
   "execution_count": 12,
   "metadata": {},
   "outputs": [],
   "source": [
    "keyword_set=['업무자동화',\n",
    "             '컴퓨터공학 올인원',\n",
    "             '올인원 패키지', \n",
    "             '패스트캠퍼스',\n",
    "             'UX/UI',\n",
    "             '자바스크립트 인강',\n",
    "             '모션그래픽 디자인',\n",
    "             '재무회계 실무',\n",
    "             '부동산 대체투자',\n",
    "             '신사업 발굴',\n",
    "             '디자인 툴',\n",
    "             '데이터 분석',\n",
    "             '딥러닝 강의',\n",
    "             '인공지능 강의',\n",
    "             'HTML/CSS 인강',\n",
    "             'iOS 강의',\n",
    "             'OpenCV 강의',\n",
    "             '디지털 마케팅',\n",
    "             '업무자동화인강',\n",
    "             'MBA인강',\n",
    "             '앱개발인강',\n",
    "             '영상제작인강',\n",
    "             '데이터분석강의'\n",
    "            ]"
   ]
  },
  {
   "cell_type": "code",
   "execution_count": 13,
   "metadata": {},
   "outputs": [],
   "source": [
    "fc_related =[\n",
    "    'fastcampus',\n",
    "    'Fastcampus',\n",
    "    '패스트캠퍼스',\n",
    "    '패캠',\n",
    "]"
   ]
  },
  {
   "cell_type": "code",
   "execution_count": 14,
   "metadata": {},
   "outputs": [
    {
     "name": "stdout",
     "output_type": "stream",
     "text": [
      "업무자동화 : 0 => 파이썬을 활용한 업무자동화 CAMP - 패스트캠퍼스https:/\n",
      "channl = https://www.fastcampus.co.kr/\n",
      "\n",
      "컴퓨터공학 올인원 : 0 => [올인원 패키지] 컴퓨터 공학 전공필수 ONLINE | 패스트캠\n",
      "channl = https://www.fastcampus.co.kr/\n",
      "컴퓨터공학 올인원 : 1 => [수강신청] 컴퓨터공학 올인원패키지 | 패스트캠퍼스https:/\n",
      "channl = https://www.fastcampus.co.kr/\n",
      "\n",
      "올인원 패키지 : 0 => [올인원 패키지] 컴퓨터 공학 전공필수 ONLINE | 패스트캠\n",
      "channl = https://www.fastcampus.co.kr/\n",
      "올인원 패키지 : 1 => 올인원 패키지 디자인 툴 ONLINE | 패스트캠퍼스https:\n",
      "channl = https://www.fastcampus.co.kr/\n",
      "올인원 패키지 : 2 => [올인원 패키지] 왕초보를 위한 프로그래밍 첫걸음 ONLINEh\n",
      "channl = https://www.fastcampus.co.kr/\n",
      "올인원 패키지 : 3 => 업무자동화 올인원 패키지 MAX l 패스트캠퍼스 ONLINEht\n",
      "channl = https://www.fastcampus.co.kr/\n",
      "\n",
      "패스트캠퍼스 : 0 => 패스트캠퍼스 | 커리어 성장을 위한 최고의 실무교육 아카데미ht\n",
      "channl = https://www.fastcampus.co.kr/\n",
      "\n",
      "UX/UI : 0 => UX/UI 디자인이란? - 패스트캠퍼스 미디어media.fast\n",
      "channl = http://media.fastcampus.co.kr/\n",
      "\n",
      "\n",
      "모션그래픽 디자인 : 3 => 모션 그래픽 디자인 CAMP | 패스트캠퍼스 크리에이티브http\n",
      "channl = https://www.fastcampus.co.kr/\n",
      "\n",
      "재무회계 실무 : 6 => 재무 회계 원리 CAMP | 패스트캠퍼스https://www.f\n",
      "channl = https://www.fastcampus.co.kr/\n",
      "\n",
      "\n",
      "신사업 발굴 : 1 => 신사업 발굴 및 사업화 전략 l 패스트캠퍼스https://www\n",
      "channl = https://www.fastcampus.co.kr/\n",
      "\n",
      "디자인 툴 : 0 => 올인원 패키지 디자인 툴 ONLINE | 패스트캠퍼스https:\n",
      "channl = https://www.fastcampus.co.kr/\n",
      "\n",
      "\n",
      "딥러닝 강의 : 5 => 딥러닝 5일 썸머 SCHOOL - 패스트캠퍼스https://ww\n",
      "channl = https://www.fastcampus.co.kr/\n",
      "\n",
      "\n",
      "HTML/CSS 인강 : 5 => HTML & CSS 정복 CAMP - 패스트캠퍼스https://\n",
      "channl = https://www.fastcampus.co.kr/\n",
      "\n",
      "iOS 강의 : 4 => Swift4를 활용한 iOS 앱 개발 CAMP | 패스트캠퍼스h\n",
      "channl = https://www.fastcampus.co.kr/\n",
      "\n",
      "OpenCV 강의 : 1 => OpenCV로 배우는 컴퓨터 비전 프로그래밍 CAMP | 강사 \n",
      "channl = https://www.fastcampus.co.kr/\n",
      "\n",
      "디지털 마케팅 : 0 => 디지털 마케팅을 파헤치다!_디지털 마케터란?media.fastc\n",
      "channl = http://media.fastcampus.co.kr/\n",
      "\n",
      "업무자동화인강 : 1 => [기획전] 직장인을 위한 자동화 강의 모음 | 패스트캠퍼스htt\n",
      "channl = https://www.fastcampus.co.kr/\n",
      "업무자동화인강 : 2 => 업무자동화 올인원 패키지 MAX l 패스트캠퍼스 ONLINEht\n",
      "channl = https://www.fastcampus.co.kr/\n",
      "\n",
      "\n",
      "앱개발인강 : 0 => [프로그래밍] 앱 개발 강의 모음 - 패스트캠퍼스https://\n",
      "channl = https://www.fastcampus.co.kr/\n",
      "\n",
      "영상제작인강 : 4 => [올인원패키지] 영상 제작/편집 올인원 패키지 ONLINE | \n",
      "channl = https://www.fastcampus.co.kr/\n",
      "\n",
      "데이터분석강의 : 0 => R 데이터 분석 강의 총 집합 | 패스트캠퍼스https://ww\n",
      "channl = https://www.fastcampus.co.kr/\n",
      "\n"
     ]
    }
   ],
   "source": [
    "for keyword in keyword_set:\n",
    "    title_list = keyword_setup(keyword)\n",
    "    for i,val in enumerate(title_list):\n",
    "        title=str(val).split(\"\\\"\")[3]\n",
    "        for channel in channel_list:\n",
    "            if(title[0:len(channel)]==channel):\n",
    "                print(keyword,end=\" : \")\n",
    "                print(i,end=\" => \")\n",
    "                print(val.text[0:35])\n",
    "                print(\"channl = {}\".format(channel))\n",
    "    print(\"\")"
   ]
  },
  {
   "cell_type": "code",
   "execution_count": 26,
   "metadata": {},
   "outputs": [],
   "source": [
    "keyword_set=['업무자동화',\n",
    "             'UX/UI',\n",
    "             '자바스크립트 인강',\n",
    "             '모션그래픽 디자인',\n",
    "             '재무회계 실무',\n",
    "             '부동산 대체투자',\n",
    "             '신사업 발굴',\n",
    "             '디자인 툴',\n",
    "             '데이터 분석',\n",
    "             '딥러닝 강의',\n",
    "             '인공지능 강의',\n",
    "             'HTML/CSS 인강',\n",
    "             '앱개발인강',\n",
    "             '영상제작인강',\n",
    "             '데이터분석강의'\n",
    "            ]\n",
    "fc_related =[\n",
    "    'fastcampus',\n",
    "    'Fastcampus',\n",
    "    '패스트캠퍼스',\n",
    "    '패캠',\n",
    "]"
   ]
  },
  {
   "cell_type": "code",
   "execution_count": 36,
   "metadata": {
    "scrolled": false
   },
   "outputs": [
    {
     "name": "stdout",
     "output_type": "stream",
     "text": [
      "[None]\n",
      "<class 'bs4.element.Tag'>\n",
      "['__bool__', '__call__', '__class__', '__contains__', '__copy__', '__delattr__', '__delitem__', '__dict__', '__dir__', '__doc__', '__eq__', '__format__', '__ge__', '__getattr__', '__getattribute__', '__getitem__', '__gt__', '__hash__', '__init__', '__init_subclass__', '__iter__', '__le__', '__len__', '__lt__', '__module__', '__ne__', '__new__', '__reduce__', '__reduce_ex__', '__repr__', '__setattr__', '__setitem__', '__sizeof__', '__str__', '__subclasshook__', '__unicode__', '__weakref__', '_all_strings', '_find_all', '_find_one', '_is_xml', '_lastRecursiveChild', '_last_descendant', '_should_pretty_print', 'append', 'attrs', 'can_be_empty_element', 'cdata_list_attributes', 'childGenerator', 'children', 'clear', 'contents', 'decode', 'decode_contents', 'decompose', 'descendants', 'encode', 'encode_contents', 'extend', 'extract', 'fetchNextSiblings', 'fetchParents', 'fetchPrevious', 'fetchPreviousSiblings', 'find', 'findAll', 'findAllNext', 'findAllPrevious', 'findChild', 'findChildren', 'findNext', 'findNextSibling', 'findNextSiblings', 'findParent', 'findParents', 'findPrevious', 'findPreviousSibling', 'findPreviousSiblings', 'find_all', 'find_all_next', 'find_all_previous', 'find_next', 'find_next_sibling', 'find_next_siblings', 'find_parent', 'find_parents', 'find_previous', 'find_previous_sibling', 'find_previous_siblings', 'format_string', 'formatter_for_name', 'get', 'getText', 'get_attribute_list', 'get_text', 'has_attr', 'has_key', 'hidden', 'index', 'insert', 'insert_after', 'insert_before', 'isSelfClosing', 'is_empty_element', 'known_xml', 'name', 'namespace', 'next', 'nextGenerator', 'nextSibling', 'nextSiblingGenerator', 'next_element', 'next_elements', 'next_sibling', 'next_siblings', 'parent', 'parentGenerator', 'parents', 'parserClass', 'parser_class', 'prefix', 'preserve_whitespace_tags', 'prettify', 'previous', 'previousGenerator', 'previousSibling', 'previousSiblingGenerator', 'previous_element', 'previous_elements', 'previous_sibling', 'previous_siblings', 'recursiveChildGenerator', 'renderContents', 'replaceWith', 'replaceWithChildren', 'replace_with', 'replace_with_children', 'select', 'select_one', 'setup', 'smooth', 'string', 'strings', 'stripped_strings', 'text', 'unwrap', 'wrap']\n",
      "\n"
     ]
    }
   ],
   "source": [
    "for keyword in keyword_set:\n",
    "    title_list = keyword_setup(keyword)\n",
    "    for i,val in enumerate(title_list):\n",
    "        title=val.text\n",
    "        print(val.get_attribute_list('href'))\n",
    "        print(type(val))\n",
    "        print(dir(val))\n",
    "        break\n",
    "    print(\"\")\n",
    "    break"
   ]
  },
  {
   "cell_type": "code",
   "execution_count": null,
   "metadata": {},
   "outputs": [],
   "source": []
  },
  {
   "cell_type": "code",
   "execution_count": null,
   "metadata": {},
   "outputs": [],
   "source": []
  },
  {
   "cell_type": "code",
   "execution_count": null,
   "metadata": {},
   "outputs": [],
   "source": []
  },
  {
   "cell_type": "code",
   "execution_count": null,
   "metadata": {},
   "outputs": [],
   "source": []
  },
  {
   "cell_type": "code",
   "execution_count": null,
   "metadata": {},
   "outputs": [],
   "source": []
  },
  {
   "cell_type": "code",
   "execution_count": null,
   "metadata": {},
   "outputs": [],
   "source": []
  },
  {
   "cell_type": "code",
   "execution_count": null,
   "metadata": {},
   "outputs": [],
   "source": []
  },
  {
   "cell_type": "code",
   "execution_count": null,
   "metadata": {},
   "outputs": [],
   "source": []
  },
  {
   "cell_type": "code",
   "execution_count": null,
   "metadata": {},
   "outputs": [],
   "source": []
  },
  {
   "cell_type": "code",
   "execution_count": null,
   "metadata": {},
   "outputs": [],
   "source": []
  },
  {
   "cell_type": "code",
   "execution_count": null,
   "metadata": {},
   "outputs": [],
   "source": []
  },
  {
   "cell_type": "code",
   "execution_count": null,
   "metadata": {},
   "outputs": [],
   "source": [
    "for keyword in keyword_set:\n",
    "    title_list = keyword_setup(keyword)\n",
    "    for i,val in enumerate(title_list):\n",
    "        title=val.text\n",
    "        url=str(val).split(\"\\\"\")[3]\n",
    "        print(url)\n",
    "        print(\"channl = {}\".format(url))\n",
    "        \n",
    "        for fc_word in fc_related:\n",
    "            if(title.find(fc_word)!=-1):\n",
    "                for channel in channel_list:            \n",
    "                    if(url[0:len(channel)]!=channel):\n",
    "                        print(keyword,end=\" : \")\n",
    "                        print(i,end=\" => \")\n",
    "                        print(title[0:35])\n",
    "                        print(\"channl = {}\".format(url))\n",
    "        \n",
    "            \n",
    "    print(\"\")"
   ]
  }
 ],
 "metadata": {
  "kernelspec": {
   "display_name": "Python 3",
   "language": "python",
   "name": "python3"
  },
  "language_info": {
   "codemirror_mode": {
    "name": "ipython",
    "version": 3
   },
   "file_extension": ".py",
   "mimetype": "text/x-python",
   "name": "python",
   "nbconvert_exporter": "python",
   "pygments_lexer": "ipython3",
   "version": "3.7.3"
  }
 },
 "nbformat": 4,
 "nbformat_minor": 2
}
